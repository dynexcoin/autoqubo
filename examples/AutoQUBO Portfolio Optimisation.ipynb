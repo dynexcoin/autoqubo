{
 "cells": [
  {
   "cell_type": "markdown",
   "id": "1ac5ba64-ca2a-47fd-9e6a-10deb078480b",
   "metadata": {},
   "source": [
    "# AutoQUBO Portfolio Optimisation"
   ]
  },
  {
   "cell_type": "code",
   "execution_count": 10,
   "id": "4e46625b-214e-4e2c-9621-93433fd0a9fb",
   "metadata": {},
   "outputs": [],
   "source": [
    "import csv\n",
    "import numpy as np\n",
    "import dynex\n",
    "from autoqubo import Binarization, SamplingCompiler, SearchSpace, Utils"
   ]
  },
  {
   "cell_type": "markdown",
   "id": "757e5305-fd63-45a6-9c44-0c7215bd3824",
   "metadata": {},
   "source": [
    "## Import Portfolio data"
   ]
  },
  {
   "cell_type": "code",
   "execution_count": 4,
   "id": "f93fc0b1-507d-480f-ad5c-6f8cc53726cf",
   "metadata": {},
   "outputs": [],
   "source": [
    "with open('data/portfolio.txt') as csv_file:\n",
    "    csv_reader = csv.reader(csv_file, delimiter=',')\n",
    "    n, budget = map(int, next(csv_reader))\n",
    "    cov_matrix = np.zeros((n, n))\n",
    "    mean_vector = np.zeros(n)\n",
    "    for row in csv_reader:\n",
    "        if len(row) == 2:\n",
    "            i, v = map(int, row)\n",
    "            mean_vector[i] = v\n",
    "        elif len(row) == 3:\n",
    "            i, j, v = map(int, row)\n",
    "            cov_matrix[i, j] = v\n",
    "        else:\n",
    "            raise ValueError"
   ]
  },
  {
   "cell_type": "code",
   "execution_count": 5,
   "id": "ba479cd4-3e31-4068-87ff-e7f93b93cb03",
   "metadata": {},
   "outputs": [
    {
     "name": "stdout",
     "output_type": "stream",
     "text": [
      "means: [1. 2. 3.]\n",
      "cov:\n",
      "[[3. 1. 3.]\n",
      " [0. 4. 4.]\n",
      " [0. 0. 2.]]\n"
     ]
    }
   ],
   "source": [
    "print(\"means:\", mean_vector)\n",
    "print(\"cov:\")\n",
    "print(cov_matrix)"
   ]
  },
  {
   "cell_type": "markdown",
   "id": "78f4e2b9-1f20-44c7-9afb-471142574f73",
   "metadata": {},
   "source": [
    "## Define support functions:"
   ]
  },
  {
   "cell_type": "code",
   "execution_count": 6,
   "id": "c167a0c0-187e-4aff-a741-3555243fd43f",
   "metadata": {},
   "outputs": [],
   "source": [
    "def variance(x):\n",
    "    \"\"\"\n",
    "    Variance\n",
    "    \"\"\"\n",
    "    return x@cov_matrix@x\n",
    "\n",
    "\n",
    "def mean(x):\n",
    "    \"\"\"\n",
    "    Mean return\n",
    "    \"\"\"\n",
    "    return x@mean_vector\n",
    "\n",
    "\n",
    "def constraint(x):\n",
    "    \"\"\"\n",
    "    Budget constraint\n",
    "    \"\"\"\n",
    "    return (x.sum() - budget)**2"
   ]
  },
  {
   "cell_type": "markdown",
   "id": "ffaf4fbc-4338-401f-a492-9aaff47fabd0",
   "metadata": {},
   "source": [
    "## Optimisation function:"
   ]
  },
  {
   "cell_type": "code",
   "execution_count": 7,
   "id": "b21fb879-bde7-4bf9-8df0-d2fb3d8505ca",
   "metadata": {},
   "outputs": [],
   "source": [
    "A, B, C = 1, -1, 100"
   ]
  },
  {
   "cell_type": "code",
   "execution_count": 29,
   "id": "69114343-8fa4-48f3-ad62-503222f1e955",
   "metadata": {},
   "outputs": [],
   "source": [
    "# Mean-variance portfolio optimization model\n",
    "def f(x):\n",
    "    return A*variance(x) + B*mean(x) + C*constraint(x)\n"
   ]
  },
  {
   "cell_type": "markdown",
   "id": "31badae5-8fd6-4ee2-8eb6-974b3b13658c",
   "metadata": {},
   "source": [
    "## Autogenerate Qubo model:"
   ]
  },
  {
   "cell_type": "code",
   "execution_count": 31,
   "id": "136bc85e-d3b2-46b2-a9c4-c62360db8488",
   "metadata": {},
   "outputs": [],
   "source": [
    "s = SearchSpace()\n",
    "weights_vector = Binarization.get_uint_vector_type(3, 3)\n",
    "s.add('x', weights_vector, 3 * 3)\n",
    "\n",
    "qubo, offset = SamplingCompiler.generate_qubo_matrix(fitness_function=f, input_size=s.size, searchspace=s, use_multiprocessing=False)"
   ]
  },
  {
   "cell_type": "markdown",
   "id": "fe79c55b-d00e-48c0-853b-34f061a14850",
   "metadata": {},
   "source": [
    "## Is generated Qubo model valid?"
   ]
  },
  {
   "cell_type": "code",
   "execution_count": 32,
   "id": "f3d7e4fa-07e0-494b-9e71-7f70e6c158fb",
   "metadata": {},
   "outputs": [
    {
     "name": "stdout",
     "output_type": "stream",
     "text": [
      "QUBO generation successful\n"
     ]
    }
   ],
   "source": [
    "if SamplingCompiler.test_qubo_matrix(f, qubo, offset, search_space=s):\n",
    "    print(\"QUBO generation successful\")\n",
    "else:\n",
    "    print(\"QUBO generation failed - the objective function is not quadratic\")"
   ]
  },
  {
   "cell_type": "code",
   "execution_count": 33,
   "id": "c623cf0f-e8b8-419c-894f-6c242de1e423",
   "metadata": {},
   "outputs": [
    {
     "name": "stdout",
     "output_type": "stream",
     "text": [
      "QUBO matrix:\n",
      "[[ -698.   412.   824.   201.   402.   804.   203.   406.   812.]\n",
      " [    0. -1190.  1648.   402.   804.  1608.   406.   812.  1624.]\n",
      " [    0.     0. -1556.   804.  1608.  3216.   812.  1624.  3248.]\n",
      " [    0.     0.     0.  -698.   416.   832.   204.   408.   816.]\n",
      " [    0.     0.     0.     0. -1188.  1664.   408.   816.  1632.]\n",
      " [    0.     0.     0.     0.     0. -1544.   816.  1632.  3264.]\n",
      " [    0.     0.     0.     0.     0.     0.  -701.   408.   816.]\n",
      " [    0.     0.     0.     0.     0.     0.     0. -1198.  1632.]\n",
      " [    0.     0.     0.     0.     0.     0.     0.     0. -1580.]]\n",
      "QUBO offset\n",
      "x[] = 1600.0\n"
     ]
    }
   ],
   "source": [
    "print(\"QUBO matrix:\")\n",
    "print(qubo)\n",
    "print(\"QUBO offset\")\n",
    "print(f\"x[] = {offset}\")"
   ]
  },
  {
   "cell_type": "markdown",
   "id": "2be803b6-415e-48b8-ad1a-36051bb079cd",
   "metadata": {},
   "source": [
    "## Sample on Dynex:"
   ]
  },
  {
   "cell_type": "code",
   "execution_count": 35,
   "id": "b373e851-7052-44c9-b038-d461b5a3c420",
   "metadata": {},
   "outputs": [
    {
     "name": "stdout",
     "output_type": "stream",
     "text": [
      "Best solutions (minimize):\n",
      "[DYNEX] PRECISION SET TO 0.1\n",
      "[DYNEX] SAMPLER INITIALISED\n",
      "[DYNEX|TESTNET] *** WAITING FOR READS ***\n",
      "╭────────────┬─────────────┬───────────┬───────────────────────────┬─────────┬─────────┬────────────────╮\n",
      "│   DYNEXJOB │   BLOCK FEE │ ELAPSED   │ WORKERS READ              │ CHIPS   │ STEPS   │ GROUND STATE   │\n",
      "├────────────┼─────────────┼───────────┼───────────────────────────┼─────────┼─────────┼────────────────┤\n",
      "│         -1 │           0 │           │ *** WAITING FOR READS *** │         │         │                │\n",
      "╰────────────┴─────────────┴───────────┴───────────────────────────┴─────────┴─────────┴────────────────╯\n",
      "\n",
      "[DYNEX] FINISHED READ AFTER 0.00 SECONDS\n",
      "[DYNEX] SAMPLESET READY\n",
      "   0  1  2  3  4  5  6  7  8 energy num_oc.\n",
      "0  1  0  0  0  0  0  1  1  0   20.0       1\n",
      "['BINARY', 1 rows, 1 samples, 9 variables]\n"
     ]
    }
   ],
   "source": [
    "print(\"Best solutions (minimize):\")\n",
    "sampleset = dynex.sample_qubo(qubo, offset, mainnet=False, num_reads=1024, annealing_time=200)\n",
    "print(sampleset)"
   ]
  },
  {
   "cell_type": "markdown",
   "id": "727b047e-136c-4835-bb89-438dd1445f08",
   "metadata": {},
   "source": [
    "## Output optimal solution:"
   ]
  },
  {
   "cell_type": "code",
   "execution_count": 36,
   "id": "d0afbfc6-7905-4f00-b8ed-9e2c4934d0be",
   "metadata": {},
   "outputs": [
    {
     "name": "stdout",
     "output_type": "stream",
     "text": [
      "x=[1 0 3], energy=20.0, obj=20.0, constraint=0\n"
     ]
    }
   ],
   "source": [
    "sol = sampleset.record[0][0]\n",
    "x = s.decode_dict(sol)['x']\n",
    "e = sampleset.first.energy\n",
    "print(\n",
    "    f\"x={x}, \"\n",
    "    f\"energy={e}, \"\n",
    "    f\"obj={variance(x)-mean(x)}, \"\n",
    "    f\"constraint={constraint(x)}\"\n",
    ")"
   ]
  },
  {
   "cell_type": "code",
   "execution_count": null,
   "id": "e49df67b-a71b-4fc5-911e-2d8970215ced",
   "metadata": {},
   "outputs": [],
   "source": []
  }
 ],
 "metadata": {
  "kernelspec": {
   "display_name": "Python 3 (ipykernel)",
   "language": "python",
   "name": "python3"
  },
  "language_info": {
   "codemirror_mode": {
    "name": "ipython",
    "version": 3
   },
   "file_extension": ".py",
   "mimetype": "text/x-python",
   "name": "python",
   "nbconvert_exporter": "python",
   "pygments_lexer": "ipython3",
   "version": "3.10.12"
  }
 },
 "nbformat": 4,
 "nbformat_minor": 5
}
